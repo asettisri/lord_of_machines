{
 "cells": [
  {
   "cell_type": "code",
   "execution_count": 1,
   "metadata": {
    "collapsed": true
   },
   "outputs": [],
   "source": [
    "%matplotlib inline"
   ]
  },
  {
   "cell_type": "code",
   "execution_count": 2,
   "metadata": {
    "collapsed": true
   },
   "outputs": [],
   "source": [
    "import numpy as np\n",
    "import pandas as pd\n",
    "import nltk\n",
    "from sklearn.feature_extraction.text import CountVectorizer\n",
    "import matplotlib.pyplot as plt\n",
    "import seaborn as sns\n",
    "sns.set(color_codes=True)"
   ]
  },
  {
   "cell_type": "code",
   "execution_count": 3,
   "metadata": {
    "collapsed": true
   },
   "outputs": [],
   "source": [
    "t = pd.read_csv('raw_data/train.csv')\n",
    "\n",
    "campaign = pd.read_csv('raw_data/campaign_data.csv')\n",
    "\n",
    "v = pd.read_csv('raw_data/test.csv')"
   ]
  },
  {
   "cell_type": "code",
   "execution_count": 4,
   "metadata": {},
   "outputs": [
    {
     "data": {
      "text/html": [
       "<div>\n",
       "<style>\n",
       "    .dataframe thead tr:only-child th {\n",
       "        text-align: right;\n",
       "    }\n",
       "\n",
       "    .dataframe thead th {\n",
       "        text-align: left;\n",
       "    }\n",
       "\n",
       "    .dataframe tbody tr th {\n",
       "        vertical-align: top;\n",
       "    }\n",
       "</style>\n",
       "<table border=\"1\" class=\"dataframe\">\n",
       "  <thead>\n",
       "    <tr style=\"text-align: right;\">\n",
       "      <th></th>\n",
       "      <th>id</th>\n",
       "      <th>user_id</th>\n",
       "      <th>campaign_id</th>\n",
       "      <th>send_date</th>\n",
       "      <th>is_open</th>\n",
       "      <th>is_click</th>\n",
       "    </tr>\n",
       "  </thead>\n",
       "  <tbody>\n",
       "    <tr>\n",
       "      <th>0</th>\n",
       "      <td>42_14051</td>\n",
       "      <td>14051</td>\n",
       "      <td>42</td>\n",
       "      <td>01-09-2017 19:55</td>\n",
       "      <td>0</td>\n",
       "      <td>0</td>\n",
       "    </tr>\n",
       "    <tr>\n",
       "      <th>1</th>\n",
       "      <td>52_134438</td>\n",
       "      <td>134438</td>\n",
       "      <td>52</td>\n",
       "      <td>02-11-2017 12:53</td>\n",
       "      <td>0</td>\n",
       "      <td>0</td>\n",
       "    </tr>\n",
       "    <tr>\n",
       "      <th>2</th>\n",
       "      <td>33_181789</td>\n",
       "      <td>181789</td>\n",
       "      <td>33</td>\n",
       "      <td>24-07-2017 15:15</td>\n",
       "      <td>0</td>\n",
       "      <td>0</td>\n",
       "    </tr>\n",
       "    <tr>\n",
       "      <th>3</th>\n",
       "      <td>44_231448</td>\n",
       "      <td>231448</td>\n",
       "      <td>44</td>\n",
       "      <td>05-09-2017 11:36</td>\n",
       "      <td>0</td>\n",
       "      <td>0</td>\n",
       "    </tr>\n",
       "    <tr>\n",
       "      <th>4</th>\n",
       "      <td>29_185580</td>\n",
       "      <td>185580</td>\n",
       "      <td>29</td>\n",
       "      <td>01-07-2017 18:01</td>\n",
       "      <td>0</td>\n",
       "      <td>0</td>\n",
       "    </tr>\n",
       "  </tbody>\n",
       "</table>\n",
       "</div>"
      ],
      "text/plain": [
       "          id  user_id  campaign_id         send_date  is_open  is_click\n",
       "0   42_14051    14051           42  01-09-2017 19:55        0         0\n",
       "1  52_134438   134438           52  02-11-2017 12:53        0         0\n",
       "2  33_181789   181789           33  24-07-2017 15:15        0         0\n",
       "3  44_231448   231448           44  05-09-2017 11:36        0         0\n",
       "4  29_185580   185580           29  01-07-2017 18:01        0         0"
      ]
     },
     "execution_count": 4,
     "metadata": {},
     "output_type": "execute_result"
    }
   ],
   "source": [
    "t.head()"
   ]
  },
  {
   "cell_type": "code",
   "execution_count": 5,
   "metadata": {},
   "outputs": [
    {
     "data": {
      "text/plain": [
       "id             object\n",
       "user_id         int64\n",
       "campaign_id     int64\n",
       "send_date      object\n",
       "is_open         int64\n",
       "is_click        int64\n",
       "dtype: object"
      ]
     },
     "execution_count": 5,
     "metadata": {},
     "output_type": "execute_result"
    }
   ],
   "source": [
    "t.dtypes"
   ]
  },
  {
   "cell_type": "markdown",
   "metadata": {},
   "source": [
    "### Individual features"
   ]
  },
  {
   "cell_type": "code",
   "execution_count": 6,
   "metadata": {
    "collapsed": true
   },
   "outputs": [],
   "source": [
    "t['send_date'] = pd.to_datetime(t['send_date'],format = '%d-%m-%Y %H:%M')\n",
    "t['day'] = t['send_date'].dt.day"
   ]
  },
  {
   "cell_type": "code",
   "execution_count": 7,
   "metadata": {
    "collapsed": true
   },
   "outputs": [],
   "source": [
    "v['send_date'] = pd.to_datetime(v['send_date'],format = '%d-%m-%Y %H:%M')\n",
    "v['day'] = v['send_date'].dt.day"
   ]
  },
  {
   "cell_type": "code",
   "execution_count": null,
   "metadata": {
    "collapsed": true
   },
   "outputs": [],
   "source": []
  },
  {
   "cell_type": "code",
   "execution_count": 8,
   "metadata": {},
   "outputs": [],
   "source": [
    "user_frequencies = nltk.FreqDist(list(t.user_id) + list(v.user_id))"
   ]
  },
  {
   "cell_type": "code",
   "execution_count": 9,
   "metadata": {
    "collapsed": true
   },
   "outputs": [],
   "source": [
    "t['frequency_encoding'] = t['user_id'].apply(lambda x:user_frequencies[x])"
   ]
  },
  {
   "cell_type": "code",
   "execution_count": 10,
   "metadata": {
    "collapsed": true
   },
   "outputs": [],
   "source": [
    "v['frequency_encoding'] = v['user_id'].apply(lambda x:user_frequencies[x])"
   ]
  },
  {
   "cell_type": "code",
   "execution_count": null,
   "metadata": {
    "collapsed": true
   },
   "outputs": [],
   "source": []
  },
  {
   "cell_type": "code",
   "execution_count": null,
   "metadata": {
    "collapsed": true
   },
   "outputs": [],
   "source": []
  },
  {
   "cell_type": "code",
   "execution_count": null,
   "metadata": {
    "collapsed": true
   },
   "outputs": [],
   "source": []
  },
  {
   "cell_type": "code",
   "execution_count": 11,
   "metadata": {
    "collapsed": true
   },
   "outputs": [],
   "source": [
    "campaign['subject_len'] = campaign['subject'].apply(lambda x:len(x))\n",
    "campaign['body_len'] = campaign['email_body'].apply(lambda x:len(x))"
   ]
  },
  {
   "cell_type": "code",
   "execution_count": null,
   "metadata": {
    "collapsed": true
   },
   "outputs": [],
   "source": []
  },
  {
   "cell_type": "code",
   "execution_count": 12,
   "metadata": {},
   "outputs": [
    {
     "data": {
      "text/plain": [
       "Hackathon          13\n",
       "Corporate          12\n",
       "Newsletter          9\n",
       "Conference          8\n",
       "Upcoming Events     7\n",
       "Others              2\n",
       "Webinar             1\n",
       "Name: communication_type, dtype: int64"
      ]
     },
     "execution_count": 12,
     "metadata": {},
     "output_type": "execute_result"
    }
   ],
   "source": [
    "campaign.communication_type.value_counts()"
   ]
  },
  {
   "cell_type": "code",
   "execution_count": 13,
   "metadata": {
    "collapsed": true
   },
   "outputs": [],
   "source": [
    "c = pd.get_dummies(campaign,columns=['communication_type'],drop_first=True)"
   ]
  },
  {
   "cell_type": "markdown",
   "metadata": {},
   "source": [
    "### Merging the campaign data with train and test"
   ]
  },
  {
   "cell_type": "code",
   "execution_count": 14,
   "metadata": {
    "collapsed": true
   },
   "outputs": [],
   "source": [
    "mails_train = t.join(c.set_index('campaign_id'), on='campaign_id',how='left')\n",
    "mails_test = v.join(c.set_index('campaign_id'), on='campaign_id',how='left')"
   ]
  },
  {
   "cell_type": "code",
   "execution_count": null,
   "metadata": {
    "collapsed": true
   },
   "outputs": [],
   "source": []
  },
  {
   "cell_type": "code",
   "execution_count": 15,
   "metadata": {},
   "outputs": [
    {
     "data": {
      "text/html": [
       "<div>\n",
       "<style>\n",
       "    .dataframe thead tr:only-child th {\n",
       "        text-align: right;\n",
       "    }\n",
       "\n",
       "    .dataframe thead th {\n",
       "        text-align: left;\n",
       "    }\n",
       "\n",
       "    .dataframe tbody tr th {\n",
       "        vertical-align: top;\n",
       "    }\n",
       "</style>\n",
       "<table border=\"1\" class=\"dataframe\">\n",
       "  <thead>\n",
       "    <tr style=\"text-align: right;\">\n",
       "      <th></th>\n",
       "      <th>id</th>\n",
       "      <th>user_id</th>\n",
       "      <th>campaign_id</th>\n",
       "      <th>send_date</th>\n",
       "      <th>is_open</th>\n",
       "      <th>is_click</th>\n",
       "      <th>day</th>\n",
       "      <th>frequency_encoding</th>\n",
       "      <th>total_links</th>\n",
       "      <th>no_of_internal_links</th>\n",
       "      <th>...</th>\n",
       "      <th>subject</th>\n",
       "      <th>email_url</th>\n",
       "      <th>subject_len</th>\n",
       "      <th>body_len</th>\n",
       "      <th>communication_type_Corporate</th>\n",
       "      <th>communication_type_Hackathon</th>\n",
       "      <th>communication_type_Newsletter</th>\n",
       "      <th>communication_type_Others</th>\n",
       "      <th>communication_type_Upcoming Events</th>\n",
       "      <th>communication_type_Webinar</th>\n",
       "    </tr>\n",
       "  </thead>\n",
       "  <tbody>\n",
       "    <tr>\n",
       "      <th>0</th>\n",
       "      <td>42_14051</td>\n",
       "      <td>14051</td>\n",
       "      <td>42</td>\n",
       "      <td>2017-09-01 19:55:00</td>\n",
       "      <td>0</td>\n",
       "      <td>0</td>\n",
       "      <td>1</td>\n",
       "      <td>16</td>\n",
       "      <td>88</td>\n",
       "      <td>79</td>\n",
       "      <td>...</td>\n",
       "      <td>[September] Exciting days ahead with DataHack ...</td>\n",
       "      <td>http://r.newsletters.analyticsvidhya.com/7v3rd...</td>\n",
       "      <td>88</td>\n",
       "      <td>1383</td>\n",
       "      <td>0</td>\n",
       "      <td>0</td>\n",
       "      <td>1</td>\n",
       "      <td>0</td>\n",
       "      <td>0</td>\n",
       "      <td>0</td>\n",
       "    </tr>\n",
       "    <tr>\n",
       "      <th>1</th>\n",
       "      <td>52_134438</td>\n",
       "      <td>134438</td>\n",
       "      <td>52</td>\n",
       "      <td>2017-11-02 12:53:00</td>\n",
       "      <td>0</td>\n",
       "      <td>0</td>\n",
       "      <td>2</td>\n",
       "      <td>11</td>\n",
       "      <td>67</td>\n",
       "      <td>62</td>\n",
       "      <td>...</td>\n",
       "      <td>[Newsletter] Stage for DataHack Summit 2017 is...</td>\n",
       "      <td>http://r.newsletters.analyticsvidhya.com/7vtb2...</td>\n",
       "      <td>111</td>\n",
       "      <td>971</td>\n",
       "      <td>0</td>\n",
       "      <td>0</td>\n",
       "      <td>1</td>\n",
       "      <td>0</td>\n",
       "      <td>0</td>\n",
       "      <td>0</td>\n",
       "    </tr>\n",
       "    <tr>\n",
       "      <th>2</th>\n",
       "      <td>33_181789</td>\n",
       "      <td>181789</td>\n",
       "      <td>33</td>\n",
       "      <td>2017-07-24 15:15:00</td>\n",
       "      <td>0</td>\n",
       "      <td>0</td>\n",
       "      <td>24</td>\n",
       "      <td>13</td>\n",
       "      <td>7</td>\n",
       "      <td>3</td>\n",
       "      <td>...</td>\n",
       "      <td>[Delhi NCR] Fireside Chat with DJ Patil, Forme...</td>\n",
       "      <td>http://r.newsletters.analyticsvidhya.com/7uvlg...</td>\n",
       "      <td>71</td>\n",
       "      <td>739</td>\n",
       "      <td>0</td>\n",
       "      <td>0</td>\n",
       "      <td>0</td>\n",
       "      <td>1</td>\n",
       "      <td>0</td>\n",
       "      <td>0</td>\n",
       "    </tr>\n",
       "    <tr>\n",
       "      <th>3</th>\n",
       "      <td>44_231448</td>\n",
       "      <td>231448</td>\n",
       "      <td>44</td>\n",
       "      <td>2017-09-05 11:36:00</td>\n",
       "      <td>0</td>\n",
       "      <td>0</td>\n",
       "      <td>5</td>\n",
       "      <td>11</td>\n",
       "      <td>60</td>\n",
       "      <td>56</td>\n",
       "      <td>...</td>\n",
       "      <td>[September] Data Science Hackathons, Meetups a...</td>\n",
       "      <td>http://r.newsletters.analyticsvidhya.com/7veam...</td>\n",
       "      <td>73</td>\n",
       "      <td>273</td>\n",
       "      <td>0</td>\n",
       "      <td>0</td>\n",
       "      <td>0</td>\n",
       "      <td>0</td>\n",
       "      <td>1</td>\n",
       "      <td>0</td>\n",
       "    </tr>\n",
       "    <tr>\n",
       "      <th>4</th>\n",
       "      <td>29_185580</td>\n",
       "      <td>185580</td>\n",
       "      <td>29</td>\n",
       "      <td>2017-07-01 18:01:00</td>\n",
       "      <td>0</td>\n",
       "      <td>0</td>\n",
       "      <td>1</td>\n",
       "      <td>7</td>\n",
       "      <td>67</td>\n",
       "      <td>61</td>\n",
       "      <td>...</td>\n",
       "      <td>Sneak Peek: A look at the emerging data scienc...</td>\n",
       "      <td>http://r.newsletters.analyticsvidhya.com/7um44...</td>\n",
       "      <td>55</td>\n",
       "      <td>1499</td>\n",
       "      <td>0</td>\n",
       "      <td>0</td>\n",
       "      <td>1</td>\n",
       "      <td>0</td>\n",
       "      <td>0</td>\n",
       "      <td>0</td>\n",
       "    </tr>\n",
       "  </tbody>\n",
       "</table>\n",
       "<p>5 rows × 23 columns</p>\n",
       "</div>"
      ],
      "text/plain": [
       "          id  user_id  campaign_id           send_date  is_open  is_click  \\\n",
       "0   42_14051    14051           42 2017-09-01 19:55:00        0         0   \n",
       "1  52_134438   134438           52 2017-11-02 12:53:00        0         0   \n",
       "2  33_181789   181789           33 2017-07-24 15:15:00        0         0   \n",
       "3  44_231448   231448           44 2017-09-05 11:36:00        0         0   \n",
       "4  29_185580   185580           29 2017-07-01 18:01:00        0         0   \n",
       "\n",
       "   day  frequency_encoding  total_links  no_of_internal_links  \\\n",
       "0    1                  16           88                    79   \n",
       "1    2                  11           67                    62   \n",
       "2   24                  13            7                     3   \n",
       "3    5                  11           60                    56   \n",
       "4    1                   7           67                    61   \n",
       "\n",
       "              ...              \\\n",
       "0             ...               \n",
       "1             ...               \n",
       "2             ...               \n",
       "3             ...               \n",
       "4             ...               \n",
       "\n",
       "                                             subject  \\\n",
       "0  [September] Exciting days ahead with DataHack ...   \n",
       "1  [Newsletter] Stage for DataHack Summit 2017 is...   \n",
       "2  [Delhi NCR] Fireside Chat with DJ Patil, Forme...   \n",
       "3  [September] Data Science Hackathons, Meetups a...   \n",
       "4  Sneak Peek: A look at the emerging data scienc...   \n",
       "\n",
       "                                           email_url subject_len body_len  \\\n",
       "0  http://r.newsletters.analyticsvidhya.com/7v3rd...          88     1383   \n",
       "1  http://r.newsletters.analyticsvidhya.com/7vtb2...         111      971   \n",
       "2  http://r.newsletters.analyticsvidhya.com/7uvlg...          71      739   \n",
       "3  http://r.newsletters.analyticsvidhya.com/7veam...          73      273   \n",
       "4  http://r.newsletters.analyticsvidhya.com/7um44...          55     1499   \n",
       "\n",
       "  communication_type_Corporate  communication_type_Hackathon  \\\n",
       "0                            0                             0   \n",
       "1                            0                             0   \n",
       "2                            0                             0   \n",
       "3                            0                             0   \n",
       "4                            0                             0   \n",
       "\n",
       "   communication_type_Newsletter  communication_type_Others  \\\n",
       "0                              1                          0   \n",
       "1                              1                          0   \n",
       "2                              0                          1   \n",
       "3                              0                          0   \n",
       "4                              1                          0   \n",
       "\n",
       "   communication_type_Upcoming Events  communication_type_Webinar  \n",
       "0                                   0                           0  \n",
       "1                                   0                           0  \n",
       "2                                   0                           0  \n",
       "3                                   1                           0  \n",
       "4                                   0                           0  \n",
       "\n",
       "[5 rows x 23 columns]"
      ]
     },
     "execution_count": 15,
     "metadata": {},
     "output_type": "execute_result"
    }
   ],
   "source": [
    "mails_train.head()"
   ]
  },
  {
   "cell_type": "code",
   "execution_count": 16,
   "metadata": {},
   "outputs": [
    {
     "data": {
      "text/html": [
       "<div>\n",
       "<style>\n",
       "    .dataframe thead tr:only-child th {\n",
       "        text-align: right;\n",
       "    }\n",
       "\n",
       "    .dataframe thead th {\n",
       "        text-align: left;\n",
       "    }\n",
       "\n",
       "    .dataframe tbody tr th {\n",
       "        vertical-align: top;\n",
       "    }\n",
       "</style>\n",
       "<table border=\"1\" class=\"dataframe\">\n",
       "  <thead>\n",
       "    <tr style=\"text-align: right;\">\n",
       "      <th>day</th>\n",
       "      <th>1</th>\n",
       "      <th>2</th>\n",
       "      <th>3</th>\n",
       "      <th>5</th>\n",
       "      <th>6</th>\n",
       "      <th>7</th>\n",
       "      <th>9</th>\n",
       "      <th>11</th>\n",
       "      <th>14</th>\n",
       "      <th>18</th>\n",
       "      <th>19</th>\n",
       "      <th>21</th>\n",
       "      <th>24</th>\n",
       "      <th>26</th>\n",
       "      <th>28</th>\n",
       "      <th>29</th>\n",
       "      <th>30</th>\n",
       "    </tr>\n",
       "    <tr>\n",
       "      <th>is_open</th>\n",
       "      <th></th>\n",
       "      <th></th>\n",
       "      <th></th>\n",
       "      <th></th>\n",
       "      <th></th>\n",
       "      <th></th>\n",
       "      <th></th>\n",
       "      <th></th>\n",
       "      <th></th>\n",
       "      <th></th>\n",
       "      <th></th>\n",
       "      <th></th>\n",
       "      <th></th>\n",
       "      <th></th>\n",
       "      <th></th>\n",
       "      <th></th>\n",
       "      <th></th>\n",
       "    </tr>\n",
       "  </thead>\n",
       "  <tbody>\n",
       "    <tr>\n",
       "      <th>0</th>\n",
       "      <td>259238</td>\n",
       "      <td>156652</td>\n",
       "      <td>63760</td>\n",
       "      <td>104475</td>\n",
       "      <td>120064</td>\n",
       "      <td>6635</td>\n",
       "      <td>2258</td>\n",
       "      <td>3336</td>\n",
       "      <td>7182</td>\n",
       "      <td>6739</td>\n",
       "      <td>59289</td>\n",
       "      <td>10453</td>\n",
       "      <td>27668</td>\n",
       "      <td>12033</td>\n",
       "      <td>77155</td>\n",
       "      <td>3418</td>\n",
       "      <td>46</td>\n",
       "    </tr>\n",
       "    <tr>\n",
       "      <th>1</th>\n",
       "      <td>29078</td>\n",
       "      <td>9277</td>\n",
       "      <td>9655</td>\n",
       "      <td>12011</td>\n",
       "      <td>5077</td>\n",
       "      <td>924</td>\n",
       "      <td>1229</td>\n",
       "      <td>1986</td>\n",
       "      <td>2649</td>\n",
       "      <td>1965</td>\n",
       "      <td>10335</td>\n",
       "      <td>3777</td>\n",
       "      <td>7727</td>\n",
       "      <td>2173</td>\n",
       "      <td>4203</td>\n",
       "      <td>703</td>\n",
       "      <td>21</td>\n",
       "    </tr>\n",
       "  </tbody>\n",
       "</table>\n",
       "</div>"
      ],
      "text/plain": [
       "day          1       2      3       5       6     7     9     11    14    18  \\\n",
       "is_open                                                                        \n",
       "0        259238  156652  63760  104475  120064  6635  2258  3336  7182  6739   \n",
       "1         29078    9277   9655   12011    5077   924  1229  1986  2649  1965   \n",
       "\n",
       "day         19     21     24     26     28    29  30  \n",
       "is_open                                               \n",
       "0        59289  10453  27668  12033  77155  3418  46  \n",
       "1        10335   3777   7727   2173   4203   703  21  "
      ]
     },
     "execution_count": 16,
     "metadata": {},
     "output_type": "execute_result"
    }
   ],
   "source": [
    "pd.crosstab(mails_train.is_open,mails_train.day)"
   ]
  },
  {
   "cell_type": "markdown",
   "metadata": {
    "collapsed": true
   },
   "source": [
    "## Modeling"
   ]
  },
  {
   "cell_type": "code",
   "execution_count": 40,
   "metadata": {},
   "outputs": [],
   "source": [
    "from sklearn.preprocessing import LabelEncoder\n",
    "from sklearn.cross_validation import train_test_split,cross_val_score\n",
    "from sklearn.metrics import roc_auc_score,accuracy_score,precision_score,recall_score,roc_curve,auc\n",
    "from sklearn.ensemble import RandomForestClassifier,GradientBoostingClassifier\n",
    "from sklearn.tree import DecisionTreeClassifier\n",
    "from sklearn.externals import joblib\n",
    "from sklearn.cross_validation import StratifiedKFold\n",
    "from sklearn.linear_model import LogisticRegression"
   ]
  },
  {
   "cell_type": "markdown",
   "metadata": {},
   "source": [
    "### is_open model"
   ]
  },
  {
   "cell_type": "code",
   "execution_count": null,
   "metadata": {},
   "outputs": [],
   "source": [
    "mails_train.columns"
   ]
  },
  {
   "cell_type": "code",
   "execution_count": null,
   "metadata": {
    "collapsed": true
   },
   "outputs": [],
   "source": [
    "feats = ['day','subject_len', 'communication_type_Corporate','communication_type_Hackathon',\n",
    "         'communication_type_Newsletter','communication_type_Others',\n",
    "         'communication_type_Upcoming Events','communication_type_Webinar','frequency_encoding',\n",
    "         'total_links','no_of_internal_links','no_of_images','no_of_sections']"
   ]
  },
  {
   "cell_type": "code",
   "execution_count": null,
   "metadata": {},
   "outputs": [],
   "source": [
    "X = mails_train[feats]\n",
    "Y = mails_train['is_open']"
   ]
  },
  {
   "cell_type": "code",
   "execution_count": null,
   "metadata": {
    "collapsed": true
   },
   "outputs": [],
   "source": [
    "trainX, testX, trainY, testY =  train_test_split(X, Y, test_size = .3, random_state = 166)"
   ]
  },
  {
   "cell_type": "code",
   "execution_count": null,
   "metadata": {
    "collapsed": true
   },
   "outputs": [],
   "source": [
    "rf = RandomForestClassifier(class_weight='balanced',random_state = 1)#,n_estimators=100)\n",
    "model = rf.fit(trainX, trainY)"
   ]
  },
  {
   "cell_type": "code",
   "execution_count": null,
   "metadata": {},
   "outputs": [],
   "source": [
    "preds = model.predict(trainX)\n",
    "auc_m = roc_auc_score(trainY, preds)\n",
    "accuracy = accuracy_score(trainY, preds)\n",
    "precision = precision_score(trainY, preds)\n",
    "recall = recall_score(trainY, preds)\n",
    "print auc_m,accuracy,precision,recall"
   ]
  },
  {
   "cell_type": "code",
   "execution_count": null,
   "metadata": {},
   "outputs": [],
   "source": [
    "preds = model.predict(testX)\n",
    "auc_m = roc_auc_score(testY, preds)\n",
    "accuracy = accuracy_score(testY, preds)\n",
    "precision = precision_score(testY, preds)\n",
    "recall = recall_score(testY, preds)\n",
    "print auc_m,accuracy,precision,recall"
   ]
  },
  {
   "cell_type": "code",
   "execution_count": null,
   "metadata": {
    "collapsed": true
   },
   "outputs": [],
   "source": [
    "zipped = zip(trainX.columns,model.feature_importances_)\n",
    "zipped.sort(key=lambda t:t[1],reverse=True)\n",
    "fi = zipped"
   ]
  },
  {
   "cell_type": "code",
   "execution_count": null,
   "metadata": {},
   "outputs": [],
   "source": [
    "fi"
   ]
  },
  {
   "cell_type": "code",
   "execution_count": null,
   "metadata": {},
   "outputs": [],
   "source": [
    "skf = StratifiedKFold(Y,n_folds=5,shuffle=True)\n",
    "for train_index, test_index in skf:\n",
    "    trainX, testX = X.ix[list(train_index)], X.ix[list(test_index)]\n",
    "    trainY, testY = Y.ix[list(train_index)], Y.ix[list(test_index)]\n",
    "    rf = RandomForestClassifier(class_weight='balanced',random_state = None,n_estimators=100)\n",
    "    model = rf.fit(trainX, trainY)\n",
    "    preds = model.predict(testX)\n",
    "    auc_m = roc_auc_score(testY, preds)\n",
    "    accuracy = accuracy_score(testY, preds)\n",
    "    precision = precision_score(testY, preds)\n",
    "    recall = recall_score(testY, preds)\n",
    "    print auc_m,accuracy,precision,recall"
   ]
  },
  {
   "cell_type": "code",
   "execution_count": null,
   "metadata": {
    "collapsed": true
   },
   "outputs": [],
   "source": []
  },
  {
   "cell_type": "code",
   "execution_count": null,
   "metadata": {
    "collapsed": true
   },
   "outputs": [],
   "source": [
    "Sample_weight = [1 if i==0 else 9 for i in trainY]\n",
    "gbm = GradientBoostingClassifier(random_state =1)\n",
    "model = gbm.fit(trainX, trainY,sample_weight=Sample_weight)"
   ]
  },
  {
   "cell_type": "code",
   "execution_count": null,
   "metadata": {},
   "outputs": [],
   "source": [
    "preds = model.predict(testX)\n",
    "auc_m = roc_auc_score(testY, preds)\n",
    "accuracy = accuracy_score(testY, preds)\n",
    "precision = precision_score(testY, preds)\n",
    "recall = recall_score(testY, preds)\n",
    "print auc_m,accuracy,precision,recall"
   ]
  },
  {
   "cell_type": "code",
   "execution_count": null,
   "metadata": {},
   "outputs": [],
   "source": [
    "skf = StratifiedKFold(Y,n_folds=3,shuffle=True)\n",
    "for train_index, test_index in skf:\n",
    "    trainX, testX = X.ix[list(train_index)], X.ix[list(test_index)]\n",
    "    trainY, testY = Y.ix[list(train_index)], Y.ix[list(test_index)]\n",
    "    Sample_weight = [1 if i==0 else 9 for i in trainY]\n",
    "    gbm = GradientBoostingClassifier(random_state =1)\n",
    "    model = gbm.fit(trainX, trainY,sample_weight=Sample_weight)\n",
    "    preds = model.predict(testX)\n",
    "    auc_m = roc_auc_score(testY, preds)\n",
    "    accuracy = accuracy_score(testY, preds)\n",
    "    precision = precision_score(testY, preds)\n",
    "    recall = recall_score(testY, preds)\n",
    "    print auc_m,accuracy,precision,recall"
   ]
  },
  {
   "cell_type": "code",
   "execution_count": null,
   "metadata": {
    "collapsed": true
   },
   "outputs": [],
   "source": []
  },
  {
   "cell_type": "code",
   "execution_count": null,
   "metadata": {
    "collapsed": true
   },
   "outputs": [],
   "source": []
  },
  {
   "cell_type": "markdown",
   "metadata": {
    "collapsed": true
   },
   "source": [
    "### is_click model"
   ]
  },
  {
   "cell_type": "code",
   "execution_count": 18,
   "metadata": {
    "collapsed": true
   },
   "outputs": [],
   "source": [
    "mails_opened = mails_train"
   ]
  },
  {
   "cell_type": "code",
   "execution_count": 19,
   "metadata": {},
   "outputs": [
    {
     "data": {
      "text/plain": [
       "0    1010409\n",
       "1      12782\n",
       "Name: is_click, dtype: int64"
      ]
     },
     "execution_count": 19,
     "metadata": {},
     "output_type": "execute_result"
    }
   ],
   "source": [
    "mails_opened.is_click.value_counts()"
   ]
  },
  {
   "cell_type": "code",
   "execution_count": 21,
   "metadata": {
    "collapsed": true
   },
   "outputs": [],
   "source": [
    "feats1 = ['day','subject_len', 'communication_type_Corporate','communication_type_Hackathon',\n",
    "         'communication_type_Newsletter','communication_type_Others',\n",
    "         'communication_type_Upcoming Events','communication_type_Webinar','frequency_encoding',\n",
    "         'body_len','total_links','no_of_internal_links','no_of_images','no_of_sections']"
   ]
  },
  {
   "cell_type": "code",
   "execution_count": 22,
   "metadata": {},
   "outputs": [],
   "source": [
    "X1 = mails_opened[feats1]\n",
    "Y1 = mails_opened['is_click']"
   ]
  },
  {
   "cell_type": "code",
   "execution_count": 23,
   "metadata": {
    "collapsed": true
   },
   "outputs": [],
   "source": [
    "trainX, testX, trainY, testY =  train_test_split(X1, Y1, test_size = .3, random_state = 166)"
   ]
  },
  {
   "cell_type": "code",
   "execution_count": 31,
   "metadata": {
    "collapsed": true
   },
   "outputs": [],
   "source": [
    "rf = RandomForestClassifier(class_weight={0:2,1:27},random_state = 1)#,n_estimators=100)\n",
    "model = rf.fit(trainX, trainY)"
   ]
  },
  {
   "cell_type": "code",
   "execution_count": 32,
   "metadata": {},
   "outputs": [
    {
     "name": "stdout",
     "output_type": "stream",
     "text": [
      "0.515989304989 0.983996827848 0.10193099082 0.0359897172237\n"
     ]
    }
   ],
   "source": [
    "preds = model.predict(trainX)\n",
    "auc_m = roc_auc_score(trainY, preds)\n",
    "accuracy = accuracy_score(trainY, preds)\n",
    "precision = precision_score(trainY, preds)\n",
    "recall = recall_score(trainY, preds)\n",
    "print auc_m,accuracy,precision,recall"
   ]
  },
  {
   "cell_type": "code",
   "execution_count": 33,
   "metadata": {},
   "outputs": [
    {
     "name": "stdout",
     "output_type": "stream",
     "text": [
      "0.51210315737 0.983698095505 0.0785868781543 0.0284224250326\n"
     ]
    }
   ],
   "source": [
    "preds = model.predict(testX)\n",
    "auc_m = roc_auc_score(testY, preds)\n",
    "accuracy = accuracy_score(testY, preds)\n",
    "precision = precision_score(testY, preds)\n",
    "recall = recall_score(testY, preds)\n",
    "print auc_m,accuracy,precision,recall"
   ]
  },
  {
   "cell_type": "code",
   "execution_count": null,
   "metadata": {
    "collapsed": true
   },
   "outputs": [],
   "source": []
  },
  {
   "cell_type": "code",
   "execution_count": null,
   "metadata": {},
   "outputs": [],
   "source": [
    "skf = StratifiedKFold(Y,n_folds=5,shuffle=True)\n",
    "for train_index, test_index in skf:\n",
    "    trainX, testX = X.ix[list(train_index)], X.ix[list(test_index)]\n",
    "    trainY, testY = Y.ix[list(train_index)], Y.ix[list(test_index)]\n",
    "    rf = RandomForestClassifier(class_weight='balanced',random_state = None,n_estimators=100)\n",
    "    model = rf.fit(trainX, trainY)\n",
    "    preds = model.predict(testX)\n",
    "    auc_m = roc_auc_score(testY, preds)\n",
    "    accuracy = accuracy_score(testY, preds)\n",
    "    precision = precision_score(testY, preds)\n",
    "    recall = recall_score(testY, preds)\n",
    "    print auc_m,accuracy,precision,recall"
   ]
  },
  {
   "cell_type": "code",
   "execution_count": null,
   "metadata": {
    "collapsed": true
   },
   "outputs": [],
   "source": []
  },
  {
   "cell_type": "code",
   "execution_count": 37,
   "metadata": {
    "collapsed": true
   },
   "outputs": [],
   "source": [
    "Sample_weight = [1 if i==0 else 70 for i in trainY]\n",
    "gbm = GradientBoostingClassifier(random_state =1)\n",
    "model = gbm.fit(trainX, trainY,sample_weight=Sample_weight)"
   ]
  },
  {
   "cell_type": "code",
   "execution_count": 38,
   "metadata": {},
   "outputs": [
    {
     "name": "stdout",
     "output_type": "stream",
     "text": [
      "0.594269200649 0.787041367823 0.0235470576133 0.396557505309\n"
     ]
    }
   ],
   "source": [
    "preds = model.predict(trainX)\n",
    "auc_m = roc_auc_score(trainY, preds)\n",
    "accuracy = accuracy_score(trainY, preds)\n",
    "precision = precision_score(trainY, preds)\n",
    "recall = recall_score(trainY, preds)\n",
    "print auc_m,accuracy,precision,recall"
   ]
  },
  {
   "cell_type": "code",
   "execution_count": 39,
   "metadata": {},
   "outputs": [
    {
     "name": "stdout",
     "output_type": "stream",
     "text": [
      "0.591960959768 0.786752585044 0.0232705667559 0.392177314211\n"
     ]
    }
   ],
   "source": [
    "preds = model.predict(testX)\n",
    "auc_m = roc_auc_score(testY, preds)\n",
    "accuracy = accuracy_score(testY, preds)\n",
    "precision = precision_score(testY, preds)\n",
    "recall = recall_score(testY, preds)\n",
    "print auc_m,accuracy,precision,recall"
   ]
  },
  {
   "cell_type": "code",
   "execution_count": null,
   "metadata": {
    "collapsed": true
   },
   "outputs": [],
   "source": []
  },
  {
   "cell_type": "code",
   "execution_count": 44,
   "metadata": {
    "collapsed": true
   },
   "outputs": [],
   "source": [
    "Sample_weight = [1 if i==0 else 50 for i in trainY]\n",
    "lr = LogisticRegression(random_state =1)\n",
    "model = lr.fit(trainX, trainY,sample_weight=Sample_weight)"
   ]
  },
  {
   "cell_type": "code",
   "execution_count": 45,
   "metadata": {},
   "outputs": [
    {
     "name": "stdout",
     "output_type": "stream",
     "text": [
      "0.55449442756 0.935811390986 0.0365948286651 0.163406728512\n"
     ]
    }
   ],
   "source": [
    "preds = model.predict(trainX)\n",
    "auc_m = roc_auc_score(trainY, preds)\n",
    "accuracy = accuracy_score(trainY, preds)\n",
    "precision = precision_score(trainY, preds)\n",
    "recall = recall_score(trainY, preds)\n",
    "print auc_m,accuracy,precision,recall"
   ]
  },
  {
   "cell_type": "code",
   "execution_count": 46,
   "metadata": {},
   "outputs": [
    {
     "name": "stdout",
     "output_type": "stream",
     "text": [
      "0.555184067968 0.935307110419 0.0366664738881 0.165319426336\n"
     ]
    }
   ],
   "source": [
    "preds = model.predict(testX)\n",
    "auc_m = roc_auc_score(testY, preds)\n",
    "accuracy = accuracy_score(testY, preds)\n",
    "precision = precision_score(testY, preds)\n",
    "recall = recall_score(testY, preds)\n",
    "print auc_m,accuracy,precision,recall"
   ]
  },
  {
   "cell_type": "code",
   "execution_count": null,
   "metadata": {
    "collapsed": true
   },
   "outputs": [],
   "source": []
  },
  {
   "cell_type": "code",
   "execution_count": null,
   "metadata": {
    "collapsed": true
   },
   "outputs": [],
   "source": []
  },
  {
   "cell_type": "markdown",
   "metadata": {},
   "source": [
    "## Scoring"
   ]
  },
  {
   "cell_type": "code",
   "execution_count": null,
   "metadata": {
    "collapsed": true
   },
   "outputs": [],
   "source": [
    "mails_test['is_open'] = 0\n",
    "mails_test['is_click'] = 0"
   ]
  },
  {
   "cell_type": "code",
   "execution_count": null,
   "metadata": {},
   "outputs": [],
   "source": [
    "#mails_test['is_open'] = model.predict(mails_test[feats])"
   ]
  },
  {
   "cell_type": "code",
   "execution_count": null,
   "metadata": {},
   "outputs": [],
   "source": [
    "mails_test['is_click'] = model1.predict(mails_test[feats1])"
   ]
  },
  {
   "cell_type": "code",
   "execution_count": null,
   "metadata": {},
   "outputs": [],
   "source": [
    "#pd.crosstab(mails_test['is_click'],mails_test['is_open'])"
   ]
  },
  {
   "cell_type": "code",
   "execution_count": null,
   "metadata": {},
   "outputs": [],
   "source": [
    "#mails_test['is_click'] = mails_test[['is_open','is_click']].apply(lambda x:0 if x[0]==0 else x[1],axis=1)\n",
    "#df['Value'] = df.apply(lambda row: my_test(row[a], row[c]), axis=1)"
   ]
  },
  {
   "cell_type": "code",
   "execution_count": null,
   "metadata": {},
   "outputs": [],
   "source": [
    "#pd.crosstab(mails_test['is_click'],mails_test['is_open'])"
   ]
  },
  {
   "cell_type": "code",
   "execution_count": null,
   "metadata": {},
   "outputs": [],
   "source": [
    "mails_test[['id','is_click']].to_csv('sub3.csv',index=False)"
   ]
  },
  {
   "cell_type": "code",
   "execution_count": null,
   "metadata": {
    "collapsed": true
   },
   "outputs": [],
   "source": []
  }
 ],
 "metadata": {
  "kernelspec": {
   "display_name": "Python 2",
   "language": "python",
   "name": "python2"
  },
  "language_info": {
   "codemirror_mode": {
    "name": "ipython",
    "version": 2
   },
   "file_extension": ".py",
   "mimetype": "text/x-python",
   "name": "python",
   "nbconvert_exporter": "python",
   "pygments_lexer": "ipython2",
   "version": "2.7.12"
  }
 },
 "nbformat": 4,
 "nbformat_minor": 2
}
